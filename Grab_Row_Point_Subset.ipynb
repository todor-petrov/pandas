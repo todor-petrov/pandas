{
 "cells": [
  {
   "cell_type": "code",
   "execution_count": 2,
   "id": "cf1fac3c-a9ad-4b1c-adec-fb43e03f3030",
   "metadata": {},
   "outputs": [],
   "source": [
    "import pandas as pd\n",
    "import numpy as np\n",
    "my_df = pd.read_csv('dog_data_short.csv')"
   ]
  },
  {
   "cell_type": "code",
   "execution_count": 3,
   "id": "6617561d-58ab-45a6-b9e0-7cd0a9d3f0f1",
   "metadata": {},
   "outputs": [
    {
     "data": {
      "text/plain": [
       "Breed       BELG MALINOIS\n",
       "Color             BRINDLE\n",
       "DogName              EICH\n",
       "OwnerZip            15238\n",
       "Name: 2, dtype: object"
      ]
     },
     "execution_count": 3,
     "metadata": {},
     "output_type": "execute_result"
    }
   ],
   "source": [
    "my_df.loc[2]"
   ]
  },
  {
   "cell_type": "code",
   "execution_count": 4,
   "id": "71f3d0ae-141a-43e1-aeb2-24cb50779e1b",
   "metadata": {},
   "outputs": [
    {
     "data": {
      "text/plain": [
       "Breed             MIXED\n",
       "Color       BLACK/BROWN\n",
       "DogName           ARROW\n",
       "OwnerZip          15104\n",
       "Name: 3, dtype: object"
      ]
     },
     "execution_count": 4,
     "metadata": {},
     "output_type": "execute_result"
    }
   ],
   "source": [
    "my_df.iloc[3]"
   ]
  },
  {
   "cell_type": "code",
   "execution_count": 5,
   "id": "861cb9b4-7c19-46ca-a9a3-5b44ea189f04",
   "metadata": {},
   "outputs": [
    {
     "data": {
      "text/plain": [
       "'TACODA'"
      ]
     },
     "execution_count": 5,
     "metadata": {},
     "output_type": "execute_result"
    }
   ],
   "source": [
    "my_df.loc[1, 'DogName']"
   ]
  },
  {
   "cell_type": "code",
   "execution_count": 6,
   "id": "600b4a55-e31f-49a9-97be-889e1223931b",
   "metadata": {},
   "outputs": [
    {
     "data": {
      "text/html": [
       "<div>\n",
       "<style scoped>\n",
       "    .dataframe tbody tr th:only-of-type {\n",
       "        vertical-align: middle;\n",
       "    }\n",
       "\n",
       "    .dataframe tbody tr th {\n",
       "        vertical-align: top;\n",
       "    }\n",
       "\n",
       "    .dataframe thead th {\n",
       "        text-align: right;\n",
       "    }\n",
       "</style>\n",
       "<table border=\"1\" class=\"dataframe\">\n",
       "  <thead>\n",
       "    <tr style=\"text-align: right;\">\n",
       "      <th></th>\n",
       "      <th>DogName</th>\n",
       "      <th>Breed</th>\n",
       "    </tr>\n",
       "  </thead>\n",
       "  <tbody>\n",
       "    <tr>\n",
       "      <th>1</th>\n",
       "      <td>TACODA</td>\n",
       "      <td>GER SHEPHERD</td>\n",
       "    </tr>\n",
       "    <tr>\n",
       "      <th>3</th>\n",
       "      <td>ARROW</td>\n",
       "      <td>MIXED</td>\n",
       "    </tr>\n",
       "  </tbody>\n",
       "</table>\n",
       "</div>"
      ],
      "text/plain": [
       "  DogName         Breed\n",
       "1  TACODA  GER SHEPHERD\n",
       "3   ARROW         MIXED"
      ]
     },
     "execution_count": 6,
     "metadata": {},
     "output_type": "execute_result"
    }
   ],
   "source": [
    "my_df.loc[[1, 3], ['DogName', 'Breed']]"
   ]
  },
  {
   "cell_type": "code",
   "execution_count": null,
   "id": "587b4ef3-f990-4e73-aa9e-ed15d25860ae",
   "metadata": {},
   "outputs": [],
   "source": []
  }
 ],
 "metadata": {
  "kernelspec": {
   "display_name": "Python 3 (ipykernel)",
   "language": "python",
   "name": "python3"
  },
  "language_info": {
   "codemirror_mode": {
    "name": "ipython",
    "version": 3
   },
   "file_extension": ".py",
   "mimetype": "text/x-python",
   "name": "python",
   "nbconvert_exporter": "python",
   "pygments_lexer": "ipython3",
   "version": "3.11.4"
  }
 },
 "nbformat": 4,
 "nbformat_minor": 5
}
