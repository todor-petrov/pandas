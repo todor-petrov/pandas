{
 "cells": [
  {
   "cell_type": "code",
   "execution_count": 2,
   "id": "a8786253-41a4-4bb3-8fbe-fc1dd33d4da2",
   "metadata": {},
   "outputs": [],
   "source": [
    "import pandas as pd"
   ]
  },
  {
   "cell_type": "code",
   "execution_count": 3,
   "id": "004d058a-cdc6-4107-9432-5791784dc3d9",
   "metadata": {},
   "outputs": [],
   "source": [
    "import numpy as np"
   ]
  },
  {
   "cell_type": "code",
   "execution_count": 4,
   "id": "dcf581a4-c182-4ab9-8e3f-dcbbfcfb9ce9",
   "metadata": {},
   "outputs": [
    {
     "data": {
      "text/plain": [
       "0     5\n",
       "1     9\n",
       "2    15\n",
       "3    57\n",
       "dtype: int64"
      ]
     },
     "execution_count": 4,
     "metadata": {},
     "output_type": "execute_result"
    }
   ],
   "source": [
    "my_series = [5, 9, 15, 57]\n",
    "my_var = pd.Series(my_series)\n",
    "my_var"
   ]
  },
  {
   "cell_type": "code",
   "execution_count": 5,
   "id": "da850ee4-e47d-4eb8-bb57-39b3c6f243dc",
   "metadata": {},
   "outputs": [
    {
     "data": {
      "text/plain": [
       "5"
      ]
     },
     "execution_count": 5,
     "metadata": {},
     "output_type": "execute_result"
    }
   ],
   "source": [
    "my_var[0]"
   ]
  },
  {
   "cell_type": "code",
   "execution_count": 6,
   "id": "5a6ca2ca-6084-4e17-9403-14a3603735be",
   "metadata": {},
   "outputs": [
    {
     "data": {
      "text/plain": [
       "A     5\n",
       "B     9\n",
       "C    15\n",
       "D    57\n",
       "dtype: int64"
      ]
     },
     "execution_count": 6,
     "metadata": {},
     "output_type": "execute_result"
    }
   ],
   "source": [
    "my_index = ['A', 'B', 'C', 'D']\n",
    "my_var2 = pd.Series(my_series, my_index)\n",
    "my_var2"
   ]
  },
  {
   "cell_type": "code",
   "execution_count": 10,
   "id": "818be9b9-ddd6-4148-a0ea-3e20bcf38baa",
   "metadata": {},
   "outputs": [
    {
     "data": {
      "text/plain": [
       "15"
      ]
     },
     "execution_count": 10,
     "metadata": {},
     "output_type": "execute_result"
    }
   ],
   "source": [
    "my_var2['C']"
   ]
  },
  {
   "cell_type": "code",
   "execution_count": 12,
   "id": "5f591c09-1a0d-45b6-b742-c244252362d6",
   "metadata": {},
   "outputs": [
    {
     "data": {
      "text/plain": [
       "Tesla       12\n",
       "Mercedes    42\n",
       "BMW          3\n",
       "dtype: int64"
      ]
     },
     "execution_count": 12,
     "metadata": {},
     "output_type": "execute_result"
    }
   ],
   "source": [
    "cars = {'Tesla': 12, 'Mercedes': 42, 'BMW': 3}\n",
    "my_var3 = pd.Series(cars)\n",
    "my_var3"
   ]
  },
  {
   "cell_type": "code",
   "execution_count": 13,
   "id": "14072808-0b42-4cc6-93b2-8be08bffef26",
   "metadata": {},
   "outputs": [
    {
     "data": {
      "text/plain": [
       "12"
      ]
     },
     "execution_count": 13,
     "metadata": {},
     "output_type": "execute_result"
    }
   ],
   "source": [
    "my_var3['Tesla']"
   ]
  },
  {
   "cell_type": "code",
   "execution_count": null,
   "id": "b8df024b-08ba-45f4-b816-35897d324f59",
   "metadata": {},
   "outputs": [],
   "source": []
  }
 ],
 "metadata": {
  "kernelspec": {
   "display_name": "Python 3 (ipykernel)",
   "language": "python",
   "name": "python3"
  },
  "language_info": {
   "codemirror_mode": {
    "name": "ipython",
    "version": 3
   },
   "file_extension": ".py",
   "mimetype": "text/x-python",
   "name": "python",
   "nbconvert_exporter": "python",
   "pygments_lexer": "ipython3",
   "version": "3.11.4"
  }
 },
 "nbformat": 4,
 "nbformat_minor": 5
}
