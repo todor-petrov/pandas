{
 "cells": [
  {
   "cell_type": "code",
   "execution_count": 1,
   "id": "2a657d37-f83b-439a-a192-1b9ef13b337c",
   "metadata": {},
   "outputs": [],
   "source": [
    "import pandas as pd\n",
    "import numpy as np"
   ]
  },
  {
   "cell_type": "code",
   "execution_count": 2,
   "id": "7fa99694-05d9-4983-b6f3-5a1d6b50ffc1",
   "metadata": {},
   "outputs": [
    {
     "data": {
      "text/html": [
       "<div>\n",
       "<style scoped>\n",
       "    .dataframe tbody tr th:only-of-type {\n",
       "        vertical-align: middle;\n",
       "    }\n",
       "\n",
       "    .dataframe tbody tr th {\n",
       "        vertical-align: top;\n",
       "    }\n",
       "\n",
       "    .dataframe thead th {\n",
       "        text-align: right;\n",
       "    }\n",
       "</style>\n",
       "<table border=\"1\" class=\"dataframe\">\n",
       "  <thead>\n",
       "    <tr style=\"text-align: right;\">\n",
       "      <th></th>\n",
       "      <th>Breed</th>\n",
       "      <th>Color</th>\n",
       "      <th>DogName</th>\n",
       "      <th>OwnerZip</th>\n",
       "    </tr>\n",
       "  </thead>\n",
       "  <tbody>\n",
       "    <tr>\n",
       "      <th>0</th>\n",
       "      <td>COCKAPOO</td>\n",
       "      <td>BROWN</td>\n",
       "      <td>CHARLEY</td>\n",
       "      <td>15236</td>\n",
       "    </tr>\n",
       "    <tr>\n",
       "      <th>1</th>\n",
       "      <td>GER SHEPHERD</td>\n",
       "      <td>BLACK/BROWN</td>\n",
       "      <td>TACODA</td>\n",
       "      <td>15238</td>\n",
       "    </tr>\n",
       "    <tr>\n",
       "      <th>2</th>\n",
       "      <td>BELG MALINOIS</td>\n",
       "      <td>BRINDLE</td>\n",
       "      <td>EICH</td>\n",
       "      <td>15238</td>\n",
       "    </tr>\n",
       "    <tr>\n",
       "      <th>3</th>\n",
       "      <td>MIXED</td>\n",
       "      <td>BLACK/BROWN</td>\n",
       "      <td>ARROW</td>\n",
       "      <td>15104</td>\n",
       "    </tr>\n",
       "    <tr>\n",
       "      <th>4</th>\n",
       "      <td>AM PIT BULL TERRIER</td>\n",
       "      <td>WHITE/BROWN</td>\n",
       "      <td>OAKLEY</td>\n",
       "      <td>15139</td>\n",
       "    </tr>\n",
       "    <tr>\n",
       "      <th>...</th>\n",
       "      <td>...</td>\n",
       "      <td>...</td>\n",
       "      <td>...</td>\n",
       "      <td>...</td>\n",
       "    </tr>\n",
       "    <tr>\n",
       "      <th>2665</th>\n",
       "      <td>GOLDENDOODLE</td>\n",
       "      <td>BROWN</td>\n",
       "      <td>WINSLOW</td>\n",
       "      <td>15044</td>\n",
       "    </tr>\n",
       "    <tr>\n",
       "      <th>2666</th>\n",
       "      <td>YORKSHIRE TERRIER</td>\n",
       "      <td>BLACK/BROWN</td>\n",
       "      <td>ROCKY KALAKOS</td>\n",
       "      <td>15220</td>\n",
       "    </tr>\n",
       "    <tr>\n",
       "      <th>2667</th>\n",
       "      <td>LAB MIX</td>\n",
       "      <td>WHITE/BLACK/BROWN</td>\n",
       "      <td>ELLIE</td>\n",
       "      <td>15220</td>\n",
       "    </tr>\n",
       "    <tr>\n",
       "      <th>2668</th>\n",
       "      <td>GOLDENDOODLE</td>\n",
       "      <td>WHITE</td>\n",
       "      <td>CLARENCE</td>\n",
       "      <td>15143</td>\n",
       "    </tr>\n",
       "    <tr>\n",
       "      <th>2669</th>\n",
       "      <td>SHETLAND SHEEPDOG</td>\n",
       "      <td>BLACK</td>\n",
       "      <td>GRIFFIN</td>\n",
       "      <td>15136</td>\n",
       "    </tr>\n",
       "  </tbody>\n",
       "</table>\n",
       "<p>2670 rows × 4 columns</p>\n",
       "</div>"
      ],
      "text/plain": [
       "                    Breed              Color        DogName  OwnerZip\n",
       "0                COCKAPOO              BROWN        CHARLEY     15236\n",
       "1            GER SHEPHERD        BLACK/BROWN         TACODA     15238\n",
       "2           BELG MALINOIS            BRINDLE           EICH     15238\n",
       "3                   MIXED        BLACK/BROWN          ARROW     15104\n",
       "4     AM PIT BULL TERRIER        WHITE/BROWN         OAKLEY     15139\n",
       "...                   ...                ...            ...       ...\n",
       "2665         GOLDENDOODLE              BROWN        WINSLOW     15044\n",
       "2666    YORKSHIRE TERRIER        BLACK/BROWN  ROCKY KALAKOS     15220\n",
       "2667              LAB MIX  WHITE/BLACK/BROWN          ELLIE     15220\n",
       "2668         GOLDENDOODLE              WHITE       CLARENCE     15143\n",
       "2669    SHETLAND SHEEPDOG              BLACK        GRIFFIN     15136\n",
       "\n",
       "[2670 rows x 4 columns]"
      ]
     },
     "execution_count": 2,
     "metadata": {},
     "output_type": "execute_result"
    }
   ],
   "source": [
    "my_df = pd.read_csv('dog_data.csv')\n",
    "my_df"
   ]
  },
  {
   "cell_type": "code",
   "execution_count": 3,
   "id": "69a2156c-d162-4257-bc71-b76597a0fd69",
   "metadata": {},
   "outputs": [
    {
     "data": {
      "text/html": [
       "<div>\n",
       "<style scoped>\n",
       "    .dataframe tbody tr th:only-of-type {\n",
       "        vertical-align: middle;\n",
       "    }\n",
       "\n",
       "    .dataframe tbody tr th {\n",
       "        vertical-align: top;\n",
       "    }\n",
       "\n",
       "    .dataframe thead th {\n",
       "        text-align: right;\n",
       "    }\n",
       "</style>\n",
       "<table border=\"1\" class=\"dataframe\">\n",
       "  <thead>\n",
       "    <tr style=\"text-align: right;\">\n",
       "      <th></th>\n",
       "      <th>Breed</th>\n",
       "      <th>Color</th>\n",
       "      <th>DogName</th>\n",
       "      <th>OwnerZip</th>\n",
       "    </tr>\n",
       "  </thead>\n",
       "  <tbody>\n",
       "    <tr>\n",
       "      <th>0</th>\n",
       "      <td>COCKAPOO</td>\n",
       "      <td>BROWN</td>\n",
       "      <td>CHARLEY</td>\n",
       "      <td>15236</td>\n",
       "    </tr>\n",
       "    <tr>\n",
       "      <th>1</th>\n",
       "      <td>GER SHEPHERD</td>\n",
       "      <td>BLACK/BROWN</td>\n",
       "      <td>TACODA</td>\n",
       "      <td>15238</td>\n",
       "    </tr>\n",
       "    <tr>\n",
       "      <th>2</th>\n",
       "      <td>BELG MALINOIS</td>\n",
       "      <td>BRINDLE</td>\n",
       "      <td>EICH</td>\n",
       "      <td>15238</td>\n",
       "    </tr>\n",
       "    <tr>\n",
       "      <th>3</th>\n",
       "      <td>MIXED</td>\n",
       "      <td>BLACK/BROWN</td>\n",
       "      <td>ARROW</td>\n",
       "      <td>15104</td>\n",
       "    </tr>\n",
       "    <tr>\n",
       "      <th>4</th>\n",
       "      <td>AM PIT BULL TERRIER</td>\n",
       "      <td>WHITE/BROWN</td>\n",
       "      <td>OAKLEY</td>\n",
       "      <td>15139</td>\n",
       "    </tr>\n",
       "  </tbody>\n",
       "</table>\n",
       "</div>"
      ],
      "text/plain": [
       "                 Breed        Color  DogName  OwnerZip\n",
       "0             COCKAPOO        BROWN  CHARLEY     15236\n",
       "1         GER SHEPHERD  BLACK/BROWN   TACODA     15238\n",
       "2        BELG MALINOIS      BRINDLE     EICH     15238\n",
       "3                MIXED  BLACK/BROWN    ARROW     15104\n",
       "4  AM PIT BULL TERRIER  WHITE/BROWN   OAKLEY     15139"
      ]
     },
     "execution_count": 3,
     "metadata": {},
     "output_type": "execute_result"
    }
   ],
   "source": [
    "my_df.head()"
   ]
  },
  {
   "cell_type": "code",
   "execution_count": 4,
   "id": "99c2b8d1-32db-4d71-8ba9-dbdfef02a688",
   "metadata": {},
   "outputs": [
    {
     "data": {
      "text/html": [
       "<div>\n",
       "<style scoped>\n",
       "    .dataframe tbody tr th:only-of-type {\n",
       "        vertical-align: middle;\n",
       "    }\n",
       "\n",
       "    .dataframe tbody tr th {\n",
       "        vertical-align: top;\n",
       "    }\n",
       "\n",
       "    .dataframe thead th {\n",
       "        text-align: right;\n",
       "    }\n",
       "</style>\n",
       "<table border=\"1\" class=\"dataframe\">\n",
       "  <thead>\n",
       "    <tr style=\"text-align: right;\">\n",
       "      <th></th>\n",
       "      <th>Breed</th>\n",
       "      <th>Color</th>\n",
       "      <th>DogName</th>\n",
       "      <th>OwnerZip</th>\n",
       "    </tr>\n",
       "  </thead>\n",
       "  <tbody>\n",
       "    <tr>\n",
       "      <th>0</th>\n",
       "      <td>COCKAPOO</td>\n",
       "      <td>BROWN</td>\n",
       "      <td>CHARLEY</td>\n",
       "      <td>15236</td>\n",
       "    </tr>\n",
       "    <tr>\n",
       "      <th>1</th>\n",
       "      <td>GER SHEPHERD</td>\n",
       "      <td>BLACK/BROWN</td>\n",
       "      <td>TACODA</td>\n",
       "      <td>15238</td>\n",
       "    </tr>\n",
       "    <tr>\n",
       "      <th>2</th>\n",
       "      <td>BELG MALINOIS</td>\n",
       "      <td>BRINDLE</td>\n",
       "      <td>EICH</td>\n",
       "      <td>15238</td>\n",
       "    </tr>\n",
       "    <tr>\n",
       "      <th>3</th>\n",
       "      <td>MIXED</td>\n",
       "      <td>BLACK/BROWN</td>\n",
       "      <td>ARROW</td>\n",
       "      <td>15104</td>\n",
       "    </tr>\n",
       "    <tr>\n",
       "      <th>4</th>\n",
       "      <td>AM PIT BULL TERRIER</td>\n",
       "      <td>WHITE/BROWN</td>\n",
       "      <td>OAKLEY</td>\n",
       "      <td>15139</td>\n",
       "    </tr>\n",
       "    <tr>\n",
       "      <th>5</th>\n",
       "      <td>SCOTTISH TERRIER</td>\n",
       "      <td>BLACK</td>\n",
       "      <td>BAILEY</td>\n",
       "      <td>15129</td>\n",
       "    </tr>\n",
       "    <tr>\n",
       "      <th>6</th>\n",
       "      <td>YORKSHIRE TERRIER</td>\n",
       "      <td>BLACK/TAN</td>\n",
       "      <td>MIMI PEARL FOSTER</td>\n",
       "      <td>15090</td>\n",
       "    </tr>\n",
       "    <tr>\n",
       "      <th>7</th>\n",
       "      <td>DACHSHUND MIX</td>\n",
       "      <td>WHITE/BROWN</td>\n",
       "      <td>LEROI</td>\n",
       "      <td>15101</td>\n",
       "    </tr>\n",
       "    <tr>\n",
       "      <th>8</th>\n",
       "      <td>SHETLAND SHEEPDOG</td>\n",
       "      <td>WHITE/BROWN</td>\n",
       "      <td>ZOE VITSAS</td>\n",
       "      <td>15238</td>\n",
       "    </tr>\n",
       "  </tbody>\n",
       "</table>\n",
       "</div>"
      ],
      "text/plain": [
       "                 Breed        Color            DogName  OwnerZip\n",
       "0             COCKAPOO        BROWN            CHARLEY     15236\n",
       "1         GER SHEPHERD  BLACK/BROWN             TACODA     15238\n",
       "2        BELG MALINOIS      BRINDLE               EICH     15238\n",
       "3                MIXED  BLACK/BROWN              ARROW     15104\n",
       "4  AM PIT BULL TERRIER  WHITE/BROWN             OAKLEY     15139\n",
       "5     SCOTTISH TERRIER        BLACK             BAILEY     15129\n",
       "6    YORKSHIRE TERRIER    BLACK/TAN  MIMI PEARL FOSTER     15090\n",
       "7        DACHSHUND MIX  WHITE/BROWN              LEROI     15101\n",
       "8    SHETLAND SHEEPDOG  WHITE/BROWN         ZOE VITSAS     15238"
      ]
     },
     "execution_count": 4,
     "metadata": {},
     "output_type": "execute_result"
    }
   ],
   "source": [
    "my_df.head(9)"
   ]
  },
  {
   "cell_type": "code",
   "execution_count": 5,
   "id": "b11cdb20-beac-4717-b119-c7a34e346f3c",
   "metadata": {},
   "outputs": [
    {
     "data": {
      "text/html": [
       "<div>\n",
       "<style scoped>\n",
       "    .dataframe tbody tr th:only-of-type {\n",
       "        vertical-align: middle;\n",
       "    }\n",
       "\n",
       "    .dataframe tbody tr th {\n",
       "        vertical-align: top;\n",
       "    }\n",
       "\n",
       "    .dataframe thead th {\n",
       "        text-align: right;\n",
       "    }\n",
       "</style>\n",
       "<table border=\"1\" class=\"dataframe\">\n",
       "  <thead>\n",
       "    <tr style=\"text-align: right;\">\n",
       "      <th></th>\n",
       "      <th>Breed</th>\n",
       "      <th>Color</th>\n",
       "      <th>DogName</th>\n",
       "      <th>OwnerZip</th>\n",
       "    </tr>\n",
       "  </thead>\n",
       "  <tbody>\n",
       "    <tr>\n",
       "      <th>2665</th>\n",
       "      <td>GOLDENDOODLE</td>\n",
       "      <td>BROWN</td>\n",
       "      <td>WINSLOW</td>\n",
       "      <td>15044</td>\n",
       "    </tr>\n",
       "    <tr>\n",
       "      <th>2666</th>\n",
       "      <td>YORKSHIRE TERRIER</td>\n",
       "      <td>BLACK/BROWN</td>\n",
       "      <td>ROCKY KALAKOS</td>\n",
       "      <td>15220</td>\n",
       "    </tr>\n",
       "    <tr>\n",
       "      <th>2667</th>\n",
       "      <td>LAB MIX</td>\n",
       "      <td>WHITE/BLACK/BROWN</td>\n",
       "      <td>ELLIE</td>\n",
       "      <td>15220</td>\n",
       "    </tr>\n",
       "    <tr>\n",
       "      <th>2668</th>\n",
       "      <td>GOLDENDOODLE</td>\n",
       "      <td>WHITE</td>\n",
       "      <td>CLARENCE</td>\n",
       "      <td>15143</td>\n",
       "    </tr>\n",
       "    <tr>\n",
       "      <th>2669</th>\n",
       "      <td>SHETLAND SHEEPDOG</td>\n",
       "      <td>BLACK</td>\n",
       "      <td>GRIFFIN</td>\n",
       "      <td>15136</td>\n",
       "    </tr>\n",
       "  </tbody>\n",
       "</table>\n",
       "</div>"
      ],
      "text/plain": [
       "                  Breed              Color        DogName  OwnerZip\n",
       "2665       GOLDENDOODLE              BROWN        WINSLOW     15044\n",
       "2666  YORKSHIRE TERRIER        BLACK/BROWN  ROCKY KALAKOS     15220\n",
       "2667            LAB MIX  WHITE/BLACK/BROWN          ELLIE     15220\n",
       "2668       GOLDENDOODLE              WHITE       CLARENCE     15143\n",
       "2669  SHETLAND SHEEPDOG              BLACK        GRIFFIN     15136"
      ]
     },
     "execution_count": 5,
     "metadata": {},
     "output_type": "execute_result"
    }
   ],
   "source": [
    "my_df.tail()"
   ]
  },
  {
   "cell_type": "code",
   "execution_count": 6,
   "id": "4e887275-f326-4a12-9cac-cb4a3e42e743",
   "metadata": {},
   "outputs": [
    {
     "data": {
      "text/html": [
       "<div>\n",
       "<style scoped>\n",
       "    .dataframe tbody tr th:only-of-type {\n",
       "        vertical-align: middle;\n",
       "    }\n",
       "\n",
       "    .dataframe tbody tr th {\n",
       "        vertical-align: top;\n",
       "    }\n",
       "\n",
       "    .dataframe thead th {\n",
       "        text-align: right;\n",
       "    }\n",
       "</style>\n",
       "<table border=\"1\" class=\"dataframe\">\n",
       "  <thead>\n",
       "    <tr style=\"text-align: right;\">\n",
       "      <th></th>\n",
       "      <th>Breed</th>\n",
       "      <th>Color</th>\n",
       "      <th>DogName</th>\n",
       "      <th>OwnerZip</th>\n",
       "    </tr>\n",
       "  </thead>\n",
       "  <tbody>\n",
       "    <tr>\n",
       "      <th>2662</th>\n",
       "      <td>WEIMARANER</td>\n",
       "      <td>GREY</td>\n",
       "      <td>BELLA</td>\n",
       "      <td>15102</td>\n",
       "    </tr>\n",
       "    <tr>\n",
       "      <th>2663</th>\n",
       "      <td>LABRADOR RETRIEVER</td>\n",
       "      <td>BROWN</td>\n",
       "      <td>NINO</td>\n",
       "      <td>15102</td>\n",
       "    </tr>\n",
       "    <tr>\n",
       "      <th>2664</th>\n",
       "      <td>COCKER SPANIEL MIX</td>\n",
       "      <td>WHITE/BLACK</td>\n",
       "      <td>JACK</td>\n",
       "      <td>15102</td>\n",
       "    </tr>\n",
       "    <tr>\n",
       "      <th>2665</th>\n",
       "      <td>GOLDENDOODLE</td>\n",
       "      <td>BROWN</td>\n",
       "      <td>WINSLOW</td>\n",
       "      <td>15044</td>\n",
       "    </tr>\n",
       "    <tr>\n",
       "      <th>2666</th>\n",
       "      <td>YORKSHIRE TERRIER</td>\n",
       "      <td>BLACK/BROWN</td>\n",
       "      <td>ROCKY KALAKOS</td>\n",
       "      <td>15220</td>\n",
       "    </tr>\n",
       "    <tr>\n",
       "      <th>2667</th>\n",
       "      <td>LAB MIX</td>\n",
       "      <td>WHITE/BLACK/BROWN</td>\n",
       "      <td>ELLIE</td>\n",
       "      <td>15220</td>\n",
       "    </tr>\n",
       "    <tr>\n",
       "      <th>2668</th>\n",
       "      <td>GOLDENDOODLE</td>\n",
       "      <td>WHITE</td>\n",
       "      <td>CLARENCE</td>\n",
       "      <td>15143</td>\n",
       "    </tr>\n",
       "    <tr>\n",
       "      <th>2669</th>\n",
       "      <td>SHETLAND SHEEPDOG</td>\n",
       "      <td>BLACK</td>\n",
       "      <td>GRIFFIN</td>\n",
       "      <td>15136</td>\n",
       "    </tr>\n",
       "  </tbody>\n",
       "</table>\n",
       "</div>"
      ],
      "text/plain": [
       "                   Breed              Color        DogName  OwnerZip\n",
       "2662          WEIMARANER               GREY          BELLA     15102\n",
       "2663  LABRADOR RETRIEVER              BROWN           NINO     15102\n",
       "2664  COCKER SPANIEL MIX        WHITE/BLACK           JACK     15102\n",
       "2665        GOLDENDOODLE              BROWN        WINSLOW     15044\n",
       "2666   YORKSHIRE TERRIER        BLACK/BROWN  ROCKY KALAKOS     15220\n",
       "2667             LAB MIX  WHITE/BLACK/BROWN          ELLIE     15220\n",
       "2668        GOLDENDOODLE              WHITE       CLARENCE     15143\n",
       "2669   SHETLAND SHEEPDOG              BLACK        GRIFFIN     15136"
      ]
     },
     "execution_count": 6,
     "metadata": {},
     "output_type": "execute_result"
    }
   ],
   "source": [
    "my_df.tail(8)"
   ]
  },
  {
   "cell_type": "code",
   "execution_count": 7,
   "id": "61b219a3-a299-4522-943d-5c82adb2ba7e",
   "metadata": {},
   "outputs": [
    {
     "name": "stdout",
     "output_type": "stream",
     "text": [
      "<class 'pandas.core.frame.DataFrame'>\n",
      "RangeIndex: 2670 entries, 0 to 2669\n",
      "Data columns (total 4 columns):\n",
      " #   Column    Non-Null Count  Dtype \n",
      "---  ------    --------------  ----- \n",
      " 0   Breed     2670 non-null   object\n",
      " 1   Color     2665 non-null   object\n",
      " 2   DogName   2669 non-null   object\n",
      " 3   OwnerZip  2670 non-null   int64 \n",
      "dtypes: int64(1), object(3)\n",
      "memory usage: 83.6+ KB\n"
     ]
    }
   ],
   "source": [
    "my_df.info()"
   ]
  },
  {
   "cell_type": "code",
   "execution_count": 8,
   "id": "b1eded23-a0e0-4e2f-a7dd-151d50a5084c",
   "metadata": {},
   "outputs": [
    {
     "data": {
      "text/plain": [
       "(2670, 4)"
      ]
     },
     "execution_count": 8,
     "metadata": {},
     "output_type": "execute_result"
    }
   ],
   "source": [
    "my_df.shape"
   ]
  },
  {
   "cell_type": "code",
   "execution_count": 9,
   "id": "1032eb53-7da6-4f5a-bdd0-e3aaf425cb8b",
   "metadata": {},
   "outputs": [
    {
     "data": {
      "text/plain": [
       "2"
      ]
     },
     "execution_count": 9,
     "metadata": {},
     "output_type": "execute_result"
    }
   ],
   "source": [
    "my_df.ndim"
   ]
  },
  {
   "cell_type": "code",
   "execution_count": 10,
   "id": "b40a738a-2468-4712-ae7a-71a9f60c5a43",
   "metadata": {},
   "outputs": [
    {
     "data": {
      "text/plain": [
       "Breed       object\n",
       "Color       object\n",
       "DogName     object\n",
       "OwnerZip     int64\n",
       "dtype: object"
      ]
     },
     "execution_count": 10,
     "metadata": {},
     "output_type": "execute_result"
    }
   ],
   "source": [
    "my_df.dtypes"
   ]
  },
  {
   "cell_type": "code",
   "execution_count": 11,
   "id": "d73a5520-d28a-49ac-83b5-e9e93e56716c",
   "metadata": {},
   "outputs": [
    {
     "data": {
      "text/html": [
       "<div>\n",
       "<style scoped>\n",
       "    .dataframe tbody tr th:only-of-type {\n",
       "        vertical-align: middle;\n",
       "    }\n",
       "\n",
       "    .dataframe tbody tr th {\n",
       "        vertical-align: top;\n",
       "    }\n",
       "\n",
       "    .dataframe thead th {\n",
       "        text-align: right;\n",
       "    }\n",
       "</style>\n",
       "<table border=\"1\" class=\"dataframe\">\n",
       "  <thead>\n",
       "    <tr style=\"text-align: right;\">\n",
       "      <th></th>\n",
       "      <th>OwnerZip</th>\n",
       "    </tr>\n",
       "  </thead>\n",
       "  <tbody>\n",
       "    <tr>\n",
       "      <th>count</th>\n",
       "      <td>2670.000000</td>\n",
       "    </tr>\n",
       "    <tr>\n",
       "      <th>mean</th>\n",
       "      <td>15268.109738</td>\n",
       "    </tr>\n",
       "    <tr>\n",
       "      <th>std</th>\n",
       "      <td>2747.560641</td>\n",
       "    </tr>\n",
       "    <tr>\n",
       "      <th>min</th>\n",
       "      <td>15003.000000</td>\n",
       "    </tr>\n",
       "    <tr>\n",
       "      <th>25%</th>\n",
       "      <td>15102.000000</td>\n",
       "    </tr>\n",
       "    <tr>\n",
       "      <th>50%</th>\n",
       "      <td>15136.000000</td>\n",
       "    </tr>\n",
       "    <tr>\n",
       "      <th>75%</th>\n",
       "      <td>15227.000000</td>\n",
       "    </tr>\n",
       "    <tr>\n",
       "      <th>max</th>\n",
       "      <td>97206.000000</td>\n",
       "    </tr>\n",
       "  </tbody>\n",
       "</table>\n",
       "</div>"
      ],
      "text/plain": [
       "           OwnerZip\n",
       "count   2670.000000\n",
       "mean   15268.109738\n",
       "std     2747.560641\n",
       "min    15003.000000\n",
       "25%    15102.000000\n",
       "50%    15136.000000\n",
       "75%    15227.000000\n",
       "max    97206.000000"
      ]
     },
     "execution_count": 11,
     "metadata": {},
     "output_type": "execute_result"
    }
   ],
   "source": [
    "my_df.describe()"
   ]
  },
  {
   "cell_type": "code",
   "execution_count": 13,
   "id": "a3d96b72-218a-462c-b0a8-183463a72a67",
   "metadata": {},
   "outputs": [
    {
     "data": {
      "text/plain": [
       "count      2670\n",
       "unique      185\n",
       "top       MIXED\n",
       "freq        235\n",
       "Name: Breed, dtype: object"
      ]
     },
     "execution_count": 13,
     "metadata": {},
     "output_type": "execute_result"
    }
   ],
   "source": [
    "my_df['Breed'].describe()"
   ]
  },
  {
   "cell_type": "code",
   "execution_count": 14,
   "id": "bce24a42-af22-4f59-91d8-6bc906d00577",
   "metadata": {},
   "outputs": [
    {
     "data": {
      "text/plain": [
       "count      2665\n",
       "unique       72\n",
       "top       BLACK\n",
       "freq        371\n",
       "Name: Color, dtype: object"
      ]
     },
     "execution_count": 14,
     "metadata": {},
     "output_type": "execute_result"
    }
   ],
   "source": [
    "my_df['Color'].describe()"
   ]
  },
  {
   "cell_type": "code",
   "execution_count": 15,
   "id": "dac414e6-7698-4dd0-8705-9f923d74e8af",
   "metadata": {},
   "outputs": [
    {
     "data": {
      "text/plain": [
       "count     2669\n",
       "unique    1428\n",
       "top       LUCY\n",
       "freq        35\n",
       "Name: DogName, dtype: object"
      ]
     },
     "execution_count": 15,
     "metadata": {},
     "output_type": "execute_result"
    }
   ],
   "source": [
    "my_df['DogName'].describe()"
   ]
  },
  {
   "cell_type": "code",
   "execution_count": 16,
   "id": "53d937e9-f516-41e8-a202-d8c4d267aa2d",
   "metadata": {},
   "outputs": [
    {
     "data": {
      "text/plain": [
       "0             CHARLEY\n",
       "1              TACODA\n",
       "2                EICH\n",
       "3               ARROW\n",
       "4              OAKLEY\n",
       "            ...      \n",
       "2665          WINSLOW\n",
       "2666    ROCKY KALAKOS\n",
       "2667            ELLIE\n",
       "2668         CLARENCE\n",
       "2669          GRIFFIN\n",
       "Name: DogName, Length: 2670, dtype: object"
      ]
     },
     "execution_count": 16,
     "metadata": {},
     "output_type": "execute_result"
    }
   ],
   "source": [
    "my_df['DogName']"
   ]
  },
  {
   "cell_type": "code",
   "execution_count": 17,
   "id": "3fd3597b-4817-4498-851d-6439e9d98258",
   "metadata": {},
   "outputs": [
    {
     "data": {
      "text/plain": [
       "0             CHARLEY\n",
       "1              TACODA\n",
       "2                EICH\n",
       "3               ARROW\n",
       "4              OAKLEY\n",
       "            ...      \n",
       "2665          WINSLOW\n",
       "2666    ROCKY KALAKOS\n",
       "2667            ELLIE\n",
       "2668         CLARENCE\n",
       "2669          GRIFFIN\n",
       "Name: DogName, Length: 2670, dtype: object"
      ]
     },
     "execution_count": 17,
     "metadata": {},
     "output_type": "execute_result"
    }
   ],
   "source": [
    "my_df.DogName"
   ]
  },
  {
   "cell_type": "code",
   "execution_count": 22,
   "id": "59e6add6-7ae7-40e1-ad44-430048ce9d95",
   "metadata": {},
   "outputs": [
    {
     "data": {
      "text/plain": [
       "0             CHARLEY\n",
       "1              TACODA\n",
       "2                EICH\n",
       "3               ARROW\n",
       "4              OAKLEY\n",
       "            ...      \n",
       "2665          WINSLOW\n",
       "2666    ROCKY KALAKOS\n",
       "2667            ELLIE\n",
       "2668         CLARENCE\n",
       "2669          GRIFFIN\n",
       "Name: DogName, Length: 2670, dtype: object"
      ]
     },
     "execution_count": 22,
     "metadata": {},
     "output_type": "execute_result"
    }
   ],
   "source": [
    "my_df.iloc[:, 2]"
   ]
  },
  {
   "cell_type": "code",
   "execution_count": null,
   "id": "df6ca3df-7e1d-47f8-8ae8-c3189c031b91",
   "metadata": {},
   "outputs": [],
   "source": []
  }
 ],
 "metadata": {
  "kernelspec": {
   "display_name": "Python 3 (ipykernel)",
   "language": "python",
   "name": "python3"
  },
  "language_info": {
   "codemirror_mode": {
    "name": "ipython",
    "version": 3
   },
   "file_extension": ".py",
   "mimetype": "text/x-python",
   "name": "python",
   "nbconvert_exporter": "python",
   "pygments_lexer": "ipython3",
   "version": "3.11.4"
  }
 },
 "nbformat": 4,
 "nbformat_minor": 5
}
